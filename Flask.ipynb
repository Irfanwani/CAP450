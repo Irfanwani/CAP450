{
 "cells": [
  {
   "cell_type": "code",
   "execution_count": 2,
   "id": "15a6abe4",
   "metadata": {},
   "outputs": [
    {
     "name": "stdout",
     "output_type": "stream",
     "text": [
      " * Serving Flask app '__main__'\n",
      " * Debug mode: off\n"
     ]
    },
    {
     "name": "stderr",
     "output_type": "stream",
     "text": [
      "\u001b[31m\u001b[1mWARNING: This is a development server. Do not use it in a production deployment. Use a production WSGI server instead.\u001b[0m\n",
      " * Running on http://127.0.0.1:5000\n",
      "\u001b[33mPress CTRL+C to quit\u001b[0m\n",
      "127.0.0.1 - - [25/Apr/2024 10:23:35] \"GET / HTTP/1.1\" 200 -\n",
      "127.0.0.1 - - [25/Apr/2024 10:23:35] \"\u001b[33mGET /favicon.ico HTTP/1.1\u001b[0m\" 404 -\n"
     ]
    }
   ],
   "source": [
    "# Importing flask module in the project is mandatory\n",
    "# An object of Flask class is our WSGI application.\n",
    "from flask import Flask\n",
    "\n",
    "# Flask constructor takes the name of \n",
    "# current module (__name__) as argument.\n",
    "app = Flask(__name__)\n",
    "\n",
    "# The route() function of the Flask class is a decorator, \n",
    "# which tells the application which URL should call \n",
    "# the associated function.\n",
    "@app.route('/')\n",
    "# ‘/’ URL is bound with hello_world() function.\n",
    "def hello_world():\n",
    "\treturn 'Hello World'\n",
    "\n",
    "# main driver function\n",
    "if __name__ == '__main__':\n",
    "\n",
    "\t# run() method of Flask class runs the application \n",
    "\t# on the local development server.\n",
    "\tapp.run()\n"
   ]
  },
  {
   "cell_type": "code",
   "execution_count": 3,
   "id": "dca0e8aa",
   "metadata": {},
   "outputs": [
    {
     "name": "stdout",
     "output_type": "stream",
     "text": [
      " * Serving Flask app '__main__'\n",
      " * Debug mode: off\n"
     ]
    },
    {
     "name": "stderr",
     "output_type": "stream",
     "text": [
      "\u001b[31m\u001b[1mWARNING: This is a development server. Do not use it in a production deployment. Use a production WSGI server instead.\u001b[0m\n",
      " * Running on http://127.0.0.1:5000\n",
      "\u001b[33mPress CTRL+C to quit\u001b[0m\n",
      "127.0.0.1 - - [25/Apr/2024 10:24:09] \"\u001b[33mGET / HTTP/1.1\u001b[0m\" 404 -\n",
      "127.0.0.1 - - [25/Apr/2024 10:24:13] \"\u001b[33mGET /irfan HTTP/1.1\u001b[0m\" 404 -\n",
      "127.0.0.1 - - [25/Apr/2024 10:24:24] \"GET /hello/irfan HTTP/1.1\" 200 -\n"
     ]
    }
   ],
   "source": [
    "from flask import Flask\n",
    "app = Flask(__name__)\n",
    "\n",
    "@app.route('/hello/<name>')\n",
    "def hello_name(name):\n",
    "    return 'Hello %s!' % name\n",
    "\n",
    "if __name__ == '__main__':\n",
    "    app.run()\n"
   ]
  },
  {
   "cell_type": "code",
   "execution_count": null,
   "id": "18918e17",
   "metadata": {},
   "outputs": [],
   "source": []
  }
 ],
 "metadata": {
  "kernelspec": {
   "display_name": "Python 3 (ipykernel)",
   "language": "python",
   "name": "python3"
  },
  "language_info": {
   "codemirror_mode": {
    "name": "ipython",
    "version": 3
   },
   "file_extension": ".py",
   "mimetype": "text/x-python",
   "name": "python",
   "nbconvert_exporter": "python",
   "pygments_lexer": "ipython3",
   "version": "3.11.7"
  }
 },
 "nbformat": 4,
 "nbformat_minor": 5
}
