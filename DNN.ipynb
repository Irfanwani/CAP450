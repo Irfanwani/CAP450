{
  "cells": [
    {
      "cell_type": "code",
      "execution_count": 2,
      "id": "7d0e76ec",
      "metadata": {
        "id": "7d0e76ec"
      },
      "outputs": [],
      "source": [
        "import tensorflow as tf"
      ]
    },
    {
      "cell_type": "code",
      "execution_count": 3,
      "id": "24a3f581",
      "metadata": {
        "id": "24a3f581"
      },
      "outputs": [],
      "source": [
        "from tensorflow.keras.models import Sequential\n",
        "from tensorflow.keras.layers import Dense\n"
      ]
    },
    {
      "cell_type": "code",
      "execution_count": 4,
      "id": "46eda434",
      "metadata": {
        "id": "46eda434"
      },
      "outputs": [],
      "source": [
        "import pandas as pd\n",
        "import numpy as np"
      ]
    },
    {
      "cell_type": "code",
      "execution_count": 5,
      "id": "zfhPed5YQJMC",
      "metadata": {
        "colab": {
          "base_uri": "https://localhost:8080/",
          "height": 73
        },
        "id": "zfhPed5YQJMC",
        "outputId": "96fab9dd-44b5-4f43-a8fd-6519d2f8b1ea"
      },
      "outputs": [],
      "source": [
        "path = 'heart.csv'\n",
        "df = pd.read_csv(path)"
      ]
    },
    {
      "cell_type": "code",
      "execution_count": 6,
      "id": "fce1893b",
      "metadata": {
        "id": "fce1893b"
      },
      "outputs": [
        {
          "name": "stderr",
          "output_type": "stream",
          "text": [
            "/Users/irfanwani/Downloads/CAP450/venv/lib/python3.11/site-packages/keras/src/layers/core/dense.py:88: UserWarning: Do not pass an `input_shape`/`input_dim` argument to a layer. When using Sequential models, prefer using an `Input(shape)` object as the first layer in the model instead.\n",
            "  super().__init__(activity_regularizer=activity_regularizer, **kwargs)\n"
          ]
        }
      ],
      "source": [
        "model = Sequential([\n",
        "Dense(64, activation='relu', input_shape=(12,)),\n",
        "Dense(500, activation='relu'),\n",
        "Dense(200, activation='relu'),\n",
        "Dense(200, activation='relu'),\n",
        "Dense(1000, activation='relu'),\n",
        "Dense(200, activation='relu'),\n",
        " Dense(1, activation='sigmoid')\n",
        "])"
      ]
    },
    {
      "cell_type": "code",
      "execution_count": 7,
      "id": "435646d9",
      "metadata": {
        "id": "435646d9"
      },
      "outputs": [],
      "source": [
        "model.compile(loss='binary_crossentropy',\n",
        "              optimizer='sgd',\n",
        "              metrics=['accuracy'])"
      ]
    },
    {
      "cell_type": "code",
      "execution_count": 8,
      "id": "215a1d7f",
      "metadata": {
        "id": "215a1d7f"
      },
      "outputs": [],
      "source": [
        "x_new = df.drop(\"target\", axis=1)"
      ]
    },
    {
      "cell_type": "code",
      "execution_count": 9,
      "id": "b75284b9",
      "metadata": {
        "id": "b75284b9"
      },
      "outputs": [],
      "source": [
        "y = df[\"target\"]"
      ]
    },
    {
      "cell_type": "code",
      "execution_count": 10,
      "id": "44e8743a",
      "metadata": {
        "colab": {
          "base_uri": "https://localhost:8080/"
        },
        "id": "44e8743a",
        "outputId": "0511eb54-5748-47b2-fc37-5bc240211d0a"
      },
      "outputs": [
        {
          "ename": "ModuleNotFoundError",
          "evalue": "No module named 'scikit_learn'",
          "output_type": "error",
          "traceback": [
            "\u001b[0;31m---------------------------------------------------------------------------\u001b[0m",
            "\u001b[0;31mModuleNotFoundError\u001b[0m                       Traceback (most recent call last)",
            "Cell \u001b[0;32mIn[10], line 1\u001b[0m\n\u001b[0;32m----> 1\u001b[0m \u001b[38;5;28;01mfrom\u001b[39;00m \u001b[38;5;21;01mscikit_learn\u001b[39;00m \u001b[38;5;28;01mimport\u001b[39;00m train_test_split\n\u001b[1;32m      2\u001b[0m X_train, X_test, y_train, y_test \u001b[38;5;241m=\u001b[39m train_test_split( x_new, y, test_size\u001b[38;5;241m=\u001b[39m\u001b[38;5;241m0.3\u001b[39m)\n\u001b[1;32m      3\u001b[0m \u001b[38;5;28mprint\u001b[39m (\u001b[38;5;124m'\u001b[39m\u001b[38;5;124mTrain set:\u001b[39m\u001b[38;5;124m'\u001b[39m, X_train\u001b[38;5;241m.\u001b[39mshape)\n",
            "\u001b[0;31mModuleNotFoundError\u001b[0m: No module named 'scikit_learn'"
          ]
        }
      ],
      "source": [
        "from scikit_learn import train_test_split\n",
        "X_train, X_test, y_train, y_test = train_test_split( x_new, y, test_size=0.3)\n",
        "print ('Train set:', X_train.shape)\n",
        "print ('Test set:', X_test.shape)"
      ]
    },
    {
      "cell_type": "code",
      "execution_count": null,
      "id": "ef2b717a",
      "metadata": {
        "colab": {
          "base_uri": "https://localhost:8080/"
        },
        "id": "ef2b717a",
        "outputId": "a2479f29-9e70-4cd4-e4a9-66f09cab3578"
      },
      "outputs": [
        {
          "name": "stdout",
          "output_type": "stream",
          "text": [
            "Epoch 1/10\n",
            "7/7 [==============================] - 0s 8ms/step - loss: 0.6737 - accuracy: 0.5802\n",
            "Epoch 2/10\n",
            "7/7 [==============================] - 0s 8ms/step - loss: 0.6198 - accuracy: 0.6557\n",
            "Epoch 3/10\n",
            "7/7 [==============================] - 0s 8ms/step - loss: 0.6387 - accuracy: 0.6321\n",
            "Epoch 4/10\n",
            "7/7 [==============================] - 0s 9ms/step - loss: 0.6275 - accuracy: 0.6509\n",
            "Epoch 5/10\n",
            "7/7 [==============================] - 0s 8ms/step - loss: 0.6089 - accuracy: 0.6509\n",
            "Epoch 6/10\n",
            "7/7 [==============================] - 0s 10ms/step - loss: 0.6150 - accuracy: 0.6557\n",
            "Epoch 7/10\n",
            "7/7 [==============================] - 0s 10ms/step - loss: 0.5731 - accuracy: 0.6840\n",
            "Epoch 8/10\n",
            "7/7 [==============================] - 0s 9ms/step - loss: 0.5673 - accuracy: 0.6887\n",
            "Epoch 9/10\n",
            "7/7 [==============================] - 0s 10ms/step - loss: 0.5981 - accuracy: 0.6840\n",
            "Epoch 10/10\n",
            "7/7 [==============================] - 0s 8ms/step - loss: 0.6016 - accuracy: 0.7123\n"
          ]
        },
        {
          "data": {
            "text/plain": [
              "<keras.src.callbacks.History at 0x7e9ac5444370>"
            ]
          },
          "execution_count": 22,
          "metadata": {},
          "output_type": "execute_result"
        }
      ],
      "source": [
        "model.fit(X_train, y_train, epochs=10, batch_size=35)"
      ]
    },
    {
      "cell_type": "code",
      "execution_count": null,
      "id": "20102fbd",
      "metadata": {
        "colab": {
          "base_uri": "https://localhost:8080/"
        },
        "id": "20102fbd",
        "outputId": "34450349-23d6-46f7-d06e-95bc9ae17c04"
      },
      "outputs": [
        {
          "data": {
            "text/plain": [
              "0.7122641801834106"
            ]
          },
          "execution_count": 23,
          "metadata": {},
          "output_type": "execute_result"
        }
      ],
      "source": [
        "training_accuracy = model.history.history['accuracy']\n",
        "max(training_accuracy)"
      ]
    },
    {
      "cell_type": "code",
      "execution_count": null,
      "id": "9388c6e7",
      "metadata": {
        "colab": {
          "base_uri": "https://localhost:8080/"
        },
        "id": "9388c6e7",
        "outputId": "847a9656-0818-4601-bf50-08ec05f2a844"
      },
      "outputs": [
        {
          "data": {
            "text/plain": [
              "0.567275881767273"
            ]
          },
          "execution_count": 24,
          "metadata": {},
          "output_type": "execute_result"
        }
      ],
      "source": [
        "training_loss = model.history.history['loss']\n",
        "min(training_loss)"
      ]
    },
    {
      "cell_type": "code",
      "execution_count": null,
      "id": "67cda39b",
      "metadata": {
        "colab": {
          "base_uri": "https://localhost:8080/"
        },
        "id": "67cda39b",
        "outputId": "9ef05004-95de-4038-9c09-dd9ed68b18f3"
      },
      "outputs": [
        {
          "name": "stdout",
          "output_type": "stream",
          "text": [
            "3/3 [==============================] - 0s 9ms/step - loss: 1.0584 - accuracy: 0.4615\n"
          ]
        },
        {
          "data": {
            "text/plain": [
              "[1.0584055185317993, 0.4615384638309479]"
            ]
          },
          "execution_count": 25,
          "metadata": {},
          "output_type": "execute_result"
        }
      ],
      "source": [
        "model.evaluate(X_test, y_test)"
      ]
    },
    {
      "cell_type": "code",
      "execution_count": null,
      "id": "0d077a2e",
      "metadata": {
        "id": "0d077a2e"
      },
      "outputs": [],
      "source": [
        "import matplotlib.pyplot as plt"
      ]
    },
    {
      "cell_type": "code",
      "execution_count": null,
      "id": "ac8b7dab",
      "metadata": {
        "colab": {
          "base_uri": "https://localhost:8080/",
          "height": 490
        },
        "id": "ac8b7dab",
        "outputId": "879ecdf6-2055-4937-cc53-9ae26b6e967a"
      },
      "outputs": [
        {
          "data": {
            "text/plain": [
              "Text(0, 0.5, 'Accuracy')"
            ]
          },
          "execution_count": 28,
          "metadata": {},
          "output_type": "execute_result"
        },
        {
          "data": {
            "image/png": "[encoded data removed]",
            "text/plain": [
              "<Figure size 640x480 with 1 Axes>"
            ]
          },
          "metadata": {},
          "output_type": "display_data"
        }
      ],
      "source": [
        "plt.plot(training_accuracy)\n",
        "plt.title('Training Accuracies')\n",
        "plt.xlabel('Epoch')\n",
        "plt.ylabel('Accuracy')"
      ]
    },
    {
      "cell_type": "code",
      "execution_count": null,
      "id": "6235d77e",
      "metadata": {
        "colab": {
          "base_uri": "https://localhost:8080/",
          "height": 490
        },
        "id": "6235d77e",
        "outputId": "dfe279cf-87fe-41c4-a019-8f45c6fced36"
      },
      "outputs": [
        {
          "data": {
            "text/plain": [
              "Text(0, 0.5, 'loss')"
            ]
          },
          "execution_count": 29,
          "metadata": {},
          "output_type": "execute_result"
        },
        {
          "data": {
            "image/png": "[encoded data removed]",
            "text/plain": [
              "<Figure size 640x480 with 1 Axes>"
            ]
          },
          "metadata": {},
          "output_type": "display_data"
        }
      ],
      "source": [
        "plt.plot(training_loss)\n",
        "plt.title('Training loss')\n",
        "plt.xlabel('Epoch')\n",
        "plt.ylabel('loss')"
      ]
    },
    {
      "cell_type": "code",
      "execution_count": null,
      "id": "cfa96dd3",
      "metadata": {
        "colab": {
          "base_uri": "https://localhost:8080/"
        },
        "id": "cfa96dd3",
        "outputId": "ed0eda06-f501-4399-d142-935312561e36"
      },
      "outputs": [
        {
          "name": "stdout",
          "output_type": "stream",
          "text": [
            "1/1 [==============================] - 0s 111ms/step\n"
          ]
        },
        {
          "data": {
            "text/plain": [
              "array([[0.43347624]], dtype=float32)"
            ]
          },
          "execution_count": 31,
          "metadata": {},
          "output_type": "execute_result"
        }
      ],
      "source": [
        "model.predict([[ 1,2,3,4,5,6,7,8,9,10,11,12]])"
      ]
    },
    {
      "cell_type": "code",
      "execution_count": null,
      "id": "HgENJnr8Q_D1",
      "metadata": {
        "id": "HgENJnr8Q_D1"
      },
      "outputs": [],
      "source": []
    }
  ],
  "metadata": {
    "colab": {
      "provenance": []
    },
    "kernelspec": {
      "display_name": "Python 3 (ipykernel)",
      "language": "python",
      "name": "python3"
    },
    "language_info": {
      "codemirror_mode": {
        "name": "ipython",
        "version": 3
      },
      "file_extension": ".py",
      "mimetype": "text/x-python",
      "name": "python",
      "nbconvert_exporter": "python",
      "pygments_lexer": "ipython3",
      "version": "3.11.7"
    }
  },
  "nbformat": 4,
  "nbformat_minor": 5
}
