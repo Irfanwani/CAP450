{
 "cells": [
  {
   "cell_type": "code",
   "execution_count": 1,
   "id": "5e9791e9",
   "metadata": {},
   "outputs": [
    {
     "name": "stdout",
     "output_type": "stream",
     "text": [
      "[0.9897704]\n"
     ]
    }
   ],
   "source": [
    "from joblib.numpy_pickle_utils import xrange\n",
    "from numpy import *\n",
    "\n",
    "\n",
    "class NeuralNet(object): \n",
    "\tdef __init__(self): \n",
    "\t\t# Generate random numbers \n",
    "\t\trandom.seed(1) \n",
    "\n",
    "\t\t# Assign random weights to a 3 x 1 matrix, \n",
    "\t\tself.synaptic_weights = 2 * random.random((3, 1)) - 1\n",
    "\n",
    "\t# The Sigmoid function \n",
    "\tdef __sigmoid(self, x): \n",
    "\t\treturn 1 / (1 + exp(-x)) \n",
    "\n",
    "\t# The derivative of the Sigmoid function. \n",
    "\t# This is the gradient of the Sigmoid curve. \n",
    "\tdef __sigmoid_derivative(self, x): \n",
    "\t\treturn x * (1 - x) \n",
    "\n",
    "\t# Train the neural network and adjust the weights each time. \n",
    "\tdef train(self, inputs, outputs, training_iterations): \n",
    "\t\tfor iteration in xrange(training_iterations): \n",
    "\t\t\t# Pass the training set through the network. \n",
    "\t\t\toutput = self.learn(inputs) \n",
    "\n",
    "\t\t\t# Calculate the error \n",
    "\t\t\terror = outputs - output \n",
    "\n",
    "\t\t\t# Adjust the weights by a factor \n",
    "\t\t\tfactor = dot(inputs.T, error * self.__sigmoid_derivative(output)) \n",
    "\t\t\tself.synaptic_weights += factor \n",
    "\n",
    "\t\t# The neural network thinks. \n",
    "\n",
    "\tdef learn(self, inputs): \n",
    "\t\treturn self.__sigmoid(dot(inputs, self.synaptic_weights)) \n",
    "\n",
    "\n",
    "if __name__ == \"__main__\": \n",
    "\t# Initialize \n",
    "\tneural_network = NeuralNet() \n",
    "\n",
    "\t# The training set. \n",
    "\tinputs = array([[0, 1, 1], [1, 0, 0], [1, 0, 1]]) \n",
    "\toutputs = array([[1, 0, 1]]).T \n",
    "\n",
    "\t# Train the neural network \n",
    "\tneural_network.train(inputs, outputs, 10000) \n",
    "\n",
    "\t# Test the neural network with a test example. \n",
    "\tprint(neural_network.learn(array([1, 0, 1]))) \n"
   ]
  },
  {
   "cell_type": "code",
   "execution_count": null,
   "id": "3bb5b19b",
   "metadata": {},
   "outputs": [],
   "source": []
  }
 ],
 "metadata": {
  "kernelspec": {
   "display_name": "Python 3 (ipykernel)",
   "language": "python",
   "name": "python3"
  },
  "language_info": {
   "codemirror_mode": {
    "name": "ipython",
    "version": 3
   },
   "file_extension": ".py",
   "mimetype": "text/x-python",
   "name": "python",
   "nbconvert_exporter": "python",
   "pygments_lexer": "ipython3",
   "version": "3.11.7"
  }
 },
 "nbformat": 4,
 "nbformat_minor": 5
}
