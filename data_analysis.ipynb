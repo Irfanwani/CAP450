{
 "cells": [
  {
   "cell_type": "code",
   "execution_count": 40,
   "metadata": {},
   "outputs": [],
   "source": [
    "import pandas as pd\n",
    "file = pd.read_csv('./telecust1.csv')"
   ]
  },
  {
   "cell_type": "code",
   "execution_count": 41,
   "metadata": {},
   "outputs": [
    {
     "name": "stdout",
     "output_type": "stream",
     "text": [
      "   region   age  marital  address income   ed  retire  gender  reside  custcat\n",
      "0       2  35.0        1      9.0     64    4       0       0     2.0        1\n",
      "1       3  23.0        1      7.0    136  NaN       0       0     6.0        4\n",
      "2       3  52.0        1     24.0    116    1       0       1     2.0        3\n",
      "3       2  34.0        0     12.0     33    2       0       1     1.0        1\n",
      "4       2  30.0        1      9.0     30    1       0       0     4.0        3\n",
      "     region   age  marital  address income ed  retire  gender  reside  custcat\n",
      "995       3  39.0        0      0.0     27  3       0       1     3.0        1\n",
      "996       1  34.0        0      2.0     22  5       0       1     1.0        1\n",
      "997       3  59.0        0     40.0    944  5       0       1     1.0        4\n",
      "998       3  49.0        0     18.0     87  2       0       1     1.0        3\n",
      "999       3  36.0        1      7.0     39  3       0       1     3.0        2\n"
     ]
    }
   ],
   "source": [
    "h = file.head(5)\n",
    "t = file.tail(5)\n",
    "print(h)\n",
    "print(t)"
   ]
  },
  {
   "cell_type": "code",
   "execution_count": 42,
   "metadata": {},
   "outputs": [
    {
     "data": {
      "text/plain": [
       "region     0\n",
       "age        2\n",
       "marital    0\n",
       "address    1\n",
       "income     1\n",
       "ed         1\n",
       "retire     0\n",
       "gender     0\n",
       "reside     1\n",
       "custcat    0\n",
       "dtype: int64"
      ]
     },
     "execution_count": 42,
     "metadata": {},
     "output_type": "execute_result"
    }
   ],
   "source": [
    "file.isnull().sum()"
   ]
  },
  {
   "cell_type": "code",
   "execution_count": 43,
   "metadata": {},
   "outputs": [
    {
     "data": {
      "text/plain": [
       "region     0\n",
       "age        2\n",
       "marital    0\n",
       "address    1\n",
       "income     2\n",
       "ed         2\n",
       "retire     0\n",
       "gender     0\n",
       "reside     1\n",
       "custcat    0\n",
       "dtype: int64"
      ]
     },
     "execution_count": 43,
     "metadata": {},
     "output_type": "execute_result"
    }
   ],
   "source": [
    "from math import nan\n",
    "\n",
    "\n",
    "file.replace('?', nan, inplace=True)\n",
    "file.isnull().sum()\n"
   ]
  },
  {
   "cell_type": "code",
   "execution_count": 45,
   "metadata": {},
   "outputs": [
    {
     "data": {
      "text/plain": [
       "region     0\n",
       "age        2\n",
       "marital    0\n",
       "address    1\n",
       "income     2\n",
       "ed         0\n",
       "retire     0\n",
       "gender     0\n",
       "reside     1\n",
       "custcat    0\n",
       "dtype: int64"
      ]
     },
     "execution_count": 45,
     "metadata": {},
     "output_type": "execute_result"
    }
   ],
   "source": [
    "avg = file['ed'].astype('float').mean()\n",
    "file['ed'] = file['ed'].replace(nan, avg)\n",
    "\n",
    "file.isnull().sum()"
   ]
  },
  {
   "cell_type": "code",
   "execution_count": null,
   "metadata": {},
   "outputs": [],
   "source": []
  }
 ],
 "metadata": {
  "kernelspec": {
   "display_name": "venv",
   "language": "python",
   "name": "python3"
  },
  "language_info": {
   "codemirror_mode": {
    "name": "ipython",
    "version": 3
   },
   "file_extension": ".py",
   "mimetype": "text/x-python",
   "name": "python",
   "nbconvert_exporter": "python",
   "pygments_lexer": "ipython3",
   "version": "3.11.7"
  }
 },
 "nbformat": 4,
 "nbformat_minor": 2
}
