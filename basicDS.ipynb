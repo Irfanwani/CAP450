{
 "cells": [
  {
   "cell_type": "code",
   "execution_count": 11,
   "metadata": {},
   "outputs": [
    {
     "name": "stdout",
     "output_type": "stream",
     "text": [
      "['Irfan', 'wani', '1', '2', '3', 'AI', 'ML', 'appended item']\n",
      "['Irfan', 'wani', '1', '2', '3', 'AI', 'ML']\n",
      "['Irfan', 'wani', '1', 'inserted item', '2', '3', 'AI', 'ML']\n",
      "['1', '2', '3', 'AI', 'Irfan', 'ML', 'inserted item']\n",
      "1\n",
      "0\n",
      "7\n"
     ]
    }
   ],
   "source": [
    "# List\n",
    "ls = [\"Irfan\", \"wani\", '1', '2', '3', \"AI\", \"ML\"]\n",
    "# OR ls = list()\n",
    "ls.append(\"appended item\")\n",
    "print(ls)\n",
    "ls.pop()\n",
    "print(ls)\n",
    "ls.insert(3, \"inserted item\")\n",
    "print(ls)\n",
    "ls.sort()\n",
    "ls.remove(\"wani\")\n",
    "print(ls)\n",
    "c = ls.count(\"Irfan\")\n",
    "ind = ls.index('1')\n",
    "\n",
    "print(c)\n",
    "print(ind)\n",
    "print(len(ls))\n"
   ]
  },
  {
   "cell_type": "code",
   "execution_count": 4,
   "metadata": {},
   "outputs": [
    {
     "name": "stdout",
     "output_type": "stream",
     "text": [
      "(1, 2, 3, 2, 2, 4, 5)\n",
      "2\n",
      "5\n",
      "3\n"
     ]
    }
   ],
   "source": [
    "# Tuple, Immutable data structure, we cannot change it once it is created \n",
    "tup = (1, 2, 3, 2, 2, 4, 5)\n",
    "# OR tup = tuple()\n",
    "print(tup)\n",
    "print(tup[1])\n",
    "print(tup.index(4))\n",
    "print(tup.count(2))"
   ]
  },
  {
   "cell_type": "code",
   "execution_count": null,
   "metadata": {},
   "outputs": [],
   "source": [
    "# set\n",
    "st = set()\n",
    "# OR st = {1, 2, 3, 4}\n",
    "for i in range(10):\n",
    "    st.add(i*i)\n",
    "\n",
    "st.update({3, 4, 5}) # {3, 4, 5} is added in the set st\n",
    "st.update((67, 67, 67)) # this will add this tuple in the set and the duplicates will be removed as set only stores unique values\n",
    "print(st)\n",
    "\n",
    "# access set elements\n",
    "for i in st:\n",
    "    print(i)\n",
    "\n",
    "# OR\n",
    "print(\"10th element in the set st is: \", list(st)[9]) #note that sets are not ordered, that is why index has no meaning in sets, thus, we first need to convert it to a list to make it ordered.\n"
   ]
  },
  {
   "cell_type": "code",
   "execution_count": 22,
   "metadata": {},
   "outputs": [
    {
     "name": "stdout",
     "output_type": "stream",
     "text": [
      "['Irfan', 'Ujjaval', 'Ashmeet', 'Aditya', 'Mohammad']\n",
      "['Irfan', 'Ujjaval', 'Ashmeet', 'Aditya', 'Mohammad']\n",
      "dict_items([('Names', ['Irfan', 'Ujjaval', 'Ashmeet', 'Aditya', 'Mohammad'])])\n",
      "dict_keys(['Names'])\n",
      "dict_values([['Irfan', 'Ujjaval', 'Ashmeet', 'Aditya', 'Mohammad']])\n",
      "{'Names': ['Irfan', 'Ujjaval', 'Ashmeet', 'Aditya', 'Mohammad'], 'newcol': 'newval'}\n",
      "{'Names': ['Irfan', 'Ujjaval', 'Ashmeet', 'Aditya', 'Mohammad']}\n"
     ]
    }
   ],
   "source": [
    "#dictionary\n",
    "dct = dict()\n",
    "# OR dct = {\"key\": \"Value\"}\n",
    "dct['Names'] = ['Irfan', 'Ujjaval', 'Ashmeet', 'Aditya', 'Mohammad']\n",
    "print(dct.get('Names'))\n",
    "# OR\n",
    "print(dct['Names'])\n",
    "print(dct.items())\n",
    "print(dct.keys())\n",
    "print(dct.values())\n",
    "\n",
    "dct['newcol'] = 'newval'\n",
    "\n",
    "print(dct)\n",
    "dct.pop('newcol')\n",
    "print(dct)\n"
   ]
  },
  {
   "cell_type": "code",
   "execution_count": null,
   "metadata": {},
   "outputs": [],
   "source": []
  }
 ],
 "metadata": {
  "kernelspec": {
   "display_name": "venv",
   "language": "python",
   "name": "python3"
  },
  "language_info": {
   "codemirror_mode": {
    "name": "ipython",
    "version": 3
   },
   "file_extension": ".py",
   "mimetype": "text/x-python",
   "name": "python",
   "nbconvert_exporter": "python",
   "pygments_lexer": "ipython3",
   "version": "3.11.7"
  }
 },
 "nbformat": 4,
 "nbformat_minor": 2
}
