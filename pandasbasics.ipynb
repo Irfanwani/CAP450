{
 "cells": [
  {
   "cell_type": "code",
   "execution_count": 2,
   "metadata": {},
   "outputs": [
    {
     "name": "stdout",
     "output_type": "stream",
     "text": [
      "       0\n",
      "0  Irfan\n",
      "1   Wani\n",
      "2    123\n",
      "3    456\n"
     ]
    },
    {
     "name": "stderr",
     "output_type": "stream",
     "text": [
      "/var/folders/rg/sl13t51n71d_4p7yxwwgcgrh0000gn/T/ipykernel_8257/3275994290.py:1: DeprecationWarning: \n",
      "Pyarrow will become a required dependency of pandas in the next major release of pandas (pandas 3.0),\n",
      "(to allow more performant data types, such as the Arrow string type, and better interoperability with other libraries)\n",
      "but was not found to be installed on your system.\n",
      "If this would cause problems for you,\n",
      "please provide us feedback at https://github.com/pandas-dev/pandas/issues/54466\n",
      "        \n",
      "  import pandas as pd\n"
     ]
    }
   ],
   "source": [
    "import pandas as pd\n",
    "ls = [\"Irfan\", \"Wani\", \"123\", \"456\"]\n",
    "df = pd.DataFrame(ls)\n",
    "print(df)"
   ]
  },
  {
   "cell_type": "code",
   "execution_count": 3,
   "metadata": {},
   "outputs": [
    {
     "name": "stdout",
     "output_type": "stream",
     "text": [
      "       Name  Age\n",
      "0     Irfan   20\n",
      "1   Ujjaval   21\n",
      "2  Mohammad   22\n",
      "3   Ashmeet   23\n"
     ]
    }
   ],
   "source": [
    "d = {\"Name\": [\"Irfan\", \"Ujjaval\", \"Mohammad\", \"Ashmeet\"], \"Age\": [20, 21, 22, 23]}\n",
    "df2 = pd.DataFrame(d)\n",
    "print(df2)"
   ]
  },
  {
   "cell_type": "code",
   "execution_count": 4,
   "metadata": {},
   "outputs": [
    {
     "name": "stdout",
     "output_type": "stream",
     "text": [
      "       X     Y\n",
      "0  irfan  wani\n",
      "1     20    30\n"
     ]
    }
   ],
   "source": [
    "d = [['irfan', 'wani'], [20, 30]]\n",
    "df3 = pd.DataFrame(d, columns=['X', 'Y'])\n",
    "print(df3)"
   ]
  },
  {
   "cell_type": "code",
   "execution_count": 6,
   "metadata": {},
   "outputs": [
    {
     "name": "stdout",
     "output_type": "stream",
     "text": [
      "     Col1  Col2\n",
      "5   first     5\n",
      "4  second     4\n",
      "2  second     3\n",
      "0   first     2\n",
      "Col2    4.0625\n",
      "Name: 0.75, dtype: float64\n",
      "<class 'pandas.core.frame.DataFrame'>\n",
      "Index: 4 entries, 5 to 0\n",
      "Data columns (total 2 columns):\n",
      " #   Column  Non-Null Count  Dtype \n",
      "---  ------  --------------  ----- \n",
      " 0   Col1    4 non-null      object\n",
      " 1   Col2    4 non-null      int64 \n",
      "dtypes: int64(1), object(1)\n",
      "memory usage: 96.0+ bytes\n",
      "None\n"
     ]
    }
   ],
   "source": [
    "dups = pd.DataFrame({'Col1': ['first', 'first', 'second', 'third', 'second', 'first', 'third'], 'Col2': [2, 2, 3, 2, 4, 5, 4]})\n",
    "dups.drop_duplicates() # drop the duplicates where whole rows are same\n",
    "dups.drop_duplicates(subset='Col1')\n",
    "dups.drop_duplicates(subset='Col2', inplace=True)\n",
    "dups.sort_values(by='Col2', ascending=False, inplace=True)\n",
    "print(dups)\n",
    "\n",
    "print(dups.describe().quantile(.25))\n",
    "print(dups.info())\n"
   ]
  },
  {
   "cell_type": "code",
   "execution_count": null,
   "metadata": {},
   "outputs": [],
   "source": []
  }
 ],
 "metadata": {
  "kernelspec": {
   "display_name": "Python 3 (ipykernel)",
   "language": "python",
   "name": "python3"
  },
  "language_info": {
   "codemirror_mode": {
    "name": "ipython",
    "version": 3
   },
   "file_extension": ".py",
   "mimetype": "text/x-python",
   "name": "python",
   "nbconvert_exporter": "python",
   "pygments_lexer": "ipython3",
   "version": "3.11.7"
  }
 },
 "nbformat": 4,
 "nbformat_minor": 4
}
