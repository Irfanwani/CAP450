{
 "cells": [
  {
   "cell_type": "code",
   "execution_count": 5,
   "metadata": {},
   "outputs": [
    {
     "name": "stdout",
     "output_type": "stream",
     "text": [
      "       0\n",
      "0  Irfan\n",
      "1   Wani\n",
      "2    123\n",
      "3    456\n"
     ]
    }
   ],
   "source": [
    "import pandas as pd\n",
    "ls = [\"Irfan\", \"Wani\", \"123\", \"456\"]\n",
    "df = pd.DataFrame(ls)\n",
    "print(df)"
   ]
  },
  {
   "cell_type": "code",
   "execution_count": 4,
   "metadata": {},
   "outputs": [
    {
     "name": "stdout",
     "output_type": "stream",
     "text": [
      "       Name  Age\n",
      "0     Irfan   20\n",
      "1   Ujjaval   21\n",
      "2  Mohammad   22\n",
      "3   Ashmeet   23\n"
     ]
    }
   ],
   "source": [
    "d = {\"Name\": [\"Irfan\", \"Ujjaval\", \"Mohammad\", \"Ashmeet\"], \"Age\": [20, 21, 22, 23]}\n",
    "df2 = pd.DataFrame(d)\n",
    "print(df2)"
   ]
  },
  {
   "cell_type": "code",
   "execution_count": 8,
   "metadata": {},
   "outputs": [
    {
     "name": "stdout",
     "output_type": "stream",
     "text": [
      "       X     Y\n",
      "0  irfan  wani\n",
      "1     20    30\n"
     ]
    }
   ],
   "source": [
    "d = [['irfan', 'wani'], [20, 30]]\n",
    "df3 = pd.DataFrame(d, columns=['X', 'Y'])\n",
    "print(df3)"
   ]
  }
 ],
 "metadata": {
  "kernelspec": {
   "display_name": "Python 3 (ipykernel)",
   "language": "python",
   "name": "python3"
  },
  "language_info": {
   "codemirror_mode": {
    "name": "ipython",
    "version": 3
   },
   "file_extension": ".py",
   "mimetype": "text/x-python",
   "name": "python",
   "nbconvert_exporter": "python",
   "pygments_lexer": "ipython3",
   "version": "3.11.7"
  }
 },
 "nbformat": 4,
 "nbformat_minor": 4
}
