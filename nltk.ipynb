{
 "cells": [
  {
   "cell_type": "code",
   "execution_count": 49,
   "metadata": {},
   "outputs": [
    {
     "name": "stderr",
     "output_type": "stream",
     "text": [
      "[nltk_data] Downloading package stopwords to\n",
      "[nltk_data]     /Users/irfanwani/nltk_data...\n",
      "[nltk_data]   Package stopwords is already up-to-date!\n"
     ]
    },
    {
     "data": {
      "text/plain": [
       "True"
      ]
     },
     "execution_count": 49,
     "metadata": {},
     "output_type": "execute_result"
    }
   ],
   "source": [
    "import nltk\n",
    "from nltk.tokenize import word_tokenize\n",
    "from nltk.corpus import stopwords\n",
    "from collections import Counter\n",
    "nltk.download('stopwords')"
   ]
  },
  {
   "cell_type": "code",
   "execution_count": 50,
   "metadata": {},
   "outputs": [],
   "source": [
    "documents = [\"I am going to University.\", \"I am eating food.\", \"I drink water in university.\" ]"
   ]
  },
  {
   "cell_type": "code",
   "execution_count": 51,
   "metadata": {},
   "outputs": [
    {
     "name": "stdout",
     "output_type": "stream",
     "text": [
      "{\"doesn't\", 'couldn', 'will', 'to', 'were', 'weren', 'on', 's', 'some', 'off', 'which', 'mustn', 'should', 'hadn', 'ours', 'is', 'who', 'other', 'by', \"couldn't\", \"won't\", 'more', 'hers', \"you'd\", \"weren't\", 'aren', 'while', 'again', 'that', 'needn', 'shouldn', 'between', 'haven', 'most', 'down', 'my', 'below', 'this', 'ain', \"shan't\", 'his', 'we', 'there', 'mightn', \"you're\", \"should've\", 'are', 'll', 'isn', 'yourselves', 'then', 'from', 'can', 'those', 'won', 're', 'myself', \"mustn't\", 'over', \"aren't\", \"needn't\", 'of', 'or', 'hasn', \"you'll\", 'having', 'both', 'each', 'for', 'such', 'themselves', 'against', \"mightn't\", 'being', \"that'll\", 'about', \"wouldn't\", 'and', 'had', 'shan', 'wasn', 'no', \"it's\", 'a', 'before', 'so', \"she's\", 'all', 'further', 'when', 'm', 'but', 'these', 'up', 'once', \"didn't\", 'they', 'has', 'didn', 'ourselves', 'than', 'been', 'y', 'here', 'why', 'own', 'am', 'because', 'was', 't', 'yours', 'o', 'wouldn', 'herself', 'with', 'you', 'himself', \"shouldn't\", \"haven't\", 'what', 'above', 'too', 'me', 'did', 'its', 'very', 'don', 'i', \"hasn't\", 'them', 'as', \"don't\", 'only', 'during', 'into', 'be', 'theirs', 'doing', 'the', 'same', 'until', 'after', 'out', 'at', 'if', 'how', 'do', 'ma', 'few', 'doesn', 'whom', \"isn't\", 'under', 'she', 'in', 'does', \"wasn't\", 'your', 'an', 'our', 'their', 'itself', 'have', 'just', \"hadn't\", 'yourself', 've', 'where', 'her', 'any', 'now', 'nor', 'd', 'not', 'he', 'him', 'it', 'through', \"you've\"}\n"
     ]
    }
   ],
   "source": [
    "stop_words = set(stopwords.words('english'))\n",
    "print(stop_words)"
   ]
  },
  {
   "cell_type": "code",
   "execution_count": 52,
   "metadata": {},
   "outputs": [
    {
     "name": "stdout",
     "output_type": "stream",
     "text": [
      "['going', 'university', 'eating', 'food', 'drink', 'water', 'university']\n"
     ]
    }
   ],
   "source": [
    "tokens = [word for doc in documents for word in word_tokenize(doc.lower(), preserve_line=True) if word.isalpha() and word not in stop_words]\n",
    "print(tokens)"
   ]
  },
  {
   "cell_type": "code",
   "execution_count": 53,
   "metadata": {},
   "outputs": [
    {
     "name": "stdout",
     "output_type": "stream",
     "text": [
      "Counter({'university': 2, 'going': 1, 'eating': 1, 'food': 1, 'drink': 1, 'water': 1})\n"
     ]
    }
   ],
   "source": [
    "freq_dist = Counter(tokens)\n",
    "print(freq_dist)"
   ]
  },
  {
   "cell_type": "code",
   "execution_count": 54,
   "metadata": {},
   "outputs": [
    {
     "name": "stdout",
     "output_type": "stream",
     "text": [
      "[[1, 2], [1, 1], [1, 1, 2]]\n"
     ]
    }
   ],
   "source": [
    "vectors = []\n",
    "for doc in documents:\n",
    "    words=word_tokenize(doc.lower(), preserve_line=True)\n",
    "    vector = [freq_dist[word] for word in words if word.isalpha() and word not in stop_words]\n",
    "    vectors.append(vector)\n",
    "print(vectors)"
   ]
  },
  {
   "cell_type": "code",
   "execution_count": null,
   "metadata": {},
   "outputs": [],
   "source": []
  }
 ],
 "metadata": {
  "kernelspec": {
   "display_name": "venv",
   "language": "python",
   "name": "python3"
  },
  "language_info": {
   "codemirror_mode": {
    "name": "ipython",
    "version": 3
   },
   "file_extension": ".py",
   "mimetype": "text/x-python",
   "name": "python",
   "nbconvert_exporter": "python",
   "pygments_lexer": "ipython3",
   "version": "3.11.7"
  }
 },
 "nbformat": 4,
 "nbformat_minor": 2
}
